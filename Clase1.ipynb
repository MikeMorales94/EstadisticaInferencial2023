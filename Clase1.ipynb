{
 "cells": [
  {
   "cell_type": "markdown",
   "metadata": {
    "slideshow": {
     "slide_type": "slide"
    }
   },
   "source": [
    "<h1 align='center'> Estadística Inferencial Descriptiva </h1>\n",
    "<center> <img src=Images/img1.png width=50%> </center>\n",
    "<h2 align='center'> M. en I. Miguel Angel Alvarado Morales </h2>\n",
    "    "
   ]
  },
  {
   "cell_type": "markdown",
   "metadata": {
    "slideshow": {
     "slide_type": "subslide"
    }
   },
   "source": [
    "<h1 align='center'> Objetivo general de la asignatura </h1>\n",
    "\n",
    "Aplicar los **métodos** de la **estadística inferencial** para la determinación de las **características** de una **población**, a través de la utilización de diversas **pruebas** que contrasten los valores de los **parámetros** y permitan la **toma de decisiones**"
   ]
  },
  {
   "cell_type": "markdown",
   "metadata": {
    "slideshow": {
     "slide_type": "subslide"
    }
   },
   "source": [
    "<h1 align='center'> Temas </h1>\n",
    "\n",
    "1. Teoría del muestreo\n",
    "2. Distribuciones muestrales\n",
    "3. Inferencia estadística con muestras grandes\n",
    "4. Inferencia estadística con muestras pequeñas\n",
    "5. Prueba de Hipótesis\n",
    "6. Análisis de varianza\n",
    "7. Pruebas de chi cuadrada\n",
    "8. Regresión lineal y correlación\n",
    "9. Regresión múltiple\n",
    "10. Series de tiempo\n",
    "11. Estadística no paramétrica"
   ]
  },
  {
   "cell_type": "markdown",
   "metadata": {
    "slideshow": {
     "slide_type": "subslide"
    }
   },
   "source": [
    "<h1 align='center'> Criterios de evaluación y acreditación </h1>\n",
    "\n",
    "**Evaluación parcial** 40%\n",
    "- Examen\n",
    "- Solución de casos\n",
    "\n",
    "**Evaluación final** 50%\n",
    "- Examen\n",
    "- Solución de casos\n",
    "\n",
    "**Actividades de aprendizaje** 10%"
   ]
  },
  {
   "cell_type": "markdown",
   "metadata": {
    "slideshow": {
     "slide_type": "slide"
    }
   },
   "source": [
    "# Estadística\n",
    "\n",
    "La estadística es la **rama de las matemáticas** que proporciona métodos para reunir, organizar y analizar información y usarla para obtener diversas conclusiones que pueden ayudar a resolver problemas en la toma de decisiones y el diseño de experimentos.\n",
    "\n",
    "En todo estudio estadístico distinguiremos entre **población** (conjunto de sujetos con una o varias características que podemos **medir** y estudiar), y **muestra** (subconjunto de una población).\n",
    "\n",
    "Existen dos tipos de análisis estadístico:\n",
    "- Exploratorio o **descriptivo**: Estadística descriptiva\n",
    "- **Inferencial** o confirmatorio: Estadística inferencial"
   ]
  },
  {
   "cell_type": "markdown",
   "metadata": {
    "slideshow": {
     "slide_type": "subslide"
    }
   },
   "source": [
    "## Conceptos importantes de Estadística Descriptiva\n",
    "\n",
    "**Población**: conjunto de **todos** los elementos de un tipo particular cuyo conocimiento es de nuestro interés.\n",
    "\n",
    "**Muestra**: cualquier subconjunto de la población.\n",
    "\n",
    "~~~\n",
    "1. Si el conjunto de datos de interés está constituido por todos los estudiantes de licenciatura en el Tecnológico de Tlalnepantla, cada uno de los estudiantes será un individuo estadístico, mientras que el conjunto de todos los estudiantes será la población. Una muestra podría ser el conjunto de todos los estudiantes del cuarto semestre de la licenciatura en administración.\n",
    "2. La producción de autos de una armadora ubicada en Morelos. En este ejemplo, la población es cada uno de los autos ensamblados (individuos estadísticos); por su parte, una muestra se puede proponer como los autos compactos fabricados en mayo.\n",
    "~~~"
   ]
  },
  {
   "cell_type": "markdown",
   "metadata": {
    "slideshow": {
     "slide_type": "subslide"
    }
   },
   "source": [
    "## Conceptos importantes de Estadística Descriptiva\n",
    "\n",
    "**Carácter**: cualquier característica o propiedad por medio de la cual es posible clasificar y estudiar a los individuos. Un carácter puede ser:\n",
    "- **Cualitativo** o no métrico, si no admite medición numérica\n",
    "- **Cuantitativo** o métrico, si es contable o medible numéricamente.\n",
    "\n",
    "~~~\n",
    "1. Si los individuos son personas, entonces el género, estado civil, número de hermanos o su estatura son caracteres.\n",
    "2. Si los individuos son computadoras, entonces un carácter podría ser la rapidez del procesador, la capacidad del disco duro, etc.\n",
    "3. Si el individuo es una reacción química, entonces el tiempo de la reacción, la cantidad de producto obtenido o si este es ácido o básico.\n",
    "~~~"
   ]
  },
  {
   "cell_type": "markdown",
   "metadata": {
    "slideshow": {
     "slide_type": "subslide"
    }
   },
   "source": [
    "## Conceptos importantes de Estadística Descriptiva\n",
    "\n",
    "**Variable estadística**: son los distintos valores que puede tomar un carácter cuantitativo. Esta puede ser de dos tipos:\n",
    "- **Discreta** cuando solo permite valores aislados que pueden ser numerables y proviene de un conteo.\n",
    "- **Continua** cuando admite todos los valores de un intervalo y proviene de una medición.\n",
    "\n",
    "~~~\n",
    "1. En cierta población, la variable que representa al número de hermanos puede tomar los valores: 0, 1, 2, 3, 4 y 5.\n",
    "2. En cierta población, la variable que representa la estatura de una persona adulta que se mide, puede tomar cualquier valor en el intervalo 135-215 cm.\n",
    "3. La variable temperatura de una persona puede tomar cualquier valor en el intervalo 20-41 ºC.\n",
    "~~~"
   ]
  },
  {
   "cell_type": "markdown",
   "metadata": {
    "slideshow": {
     "slide_type": "subslide"
    }
   },
   "source": [
    "## Conceptos importantes de Estadística Descriptiva\n",
    "\n",
    "### Escalas de medición de una variable\n",
    "\n",
    "**Escalas de medidas cualitativas o no métricas**: Las medidas no métricas pueden tener escalas nominales y ordinales.\n",
    "- **Escala nominal** En esta escala podemos usar números para etiquetar o identificar a los sujetos u objetos, pero no hay relación de orden.\n",
    "\n",
    "~~~\n",
    "1. El sector económico se clasifica en: primario, industrial y de servicios.\n",
    "2. Profesión: ingeniero, médico, matemático, abogado, etcétera.\n",
    "3. Propiedad del suelo: agrícola, forestal, urbano, etcétera.\n",
    "4. Sexo o género de la persona: masculino y femenino.\n",
    "5. Colores de un objeto: blanco, negro, rojo, entre otros.\n",
    "~~~"
   ]
  },
  {
   "cell_type": "markdown",
   "metadata": {
    "slideshow": {
     "slide_type": "subslide"
    }
   },
   "source": [
    "## Conceptos importantes de Estadística Descriptiva\n",
    "\n",
    "### Escalas de medición de una variable\n",
    "\n",
    "**Escalas de medidas cualitativas o no métricas**: Las medidas no métricas pueden tener escalas nominales y ordinales.\n",
    "- **Escala ordinal** Las variables pueden ser ordenadas o clasificadas en escalas ordinales en relación con la cantidad del atributo poseído.\n",
    "\n",
    "~~~\n",
    "1. Diferentes niveles de satisfacción de una persona sobre un producto determinado, pueden ser: muy satisfecho,\n",
    "medio satisfecho y no muy satisfecho.\n",
    "2. Niveles de estudio de un candidato a ocupar un puesto en la empresa: pasante, licenciado, maestría, doctorado.\n",
    "3. Clases sociales respecto a su poder adquisitivo: baja, media y alta.\n",
    "4. Clases de autos: lujo, deportivo, automático equipado, automático, estándar equipado, estándar, austero.\n",
    "~~~"
   ]
  },
  {
   "cell_type": "markdown",
   "metadata": {
    "slideshow": {
     "slide_type": "subslide"
    }
   },
   "source": [
    "## Conceptos importantes de Estadística Descriptiva\n",
    "\n",
    "### Escalas de medición de una variable\n",
    "\n",
    "**Escalas de medidas cuantitativas o métricas**: Las medidas métricas pueden tener escalas por intervalos y razón, éstas proporcionan el nivel más alto de medida de precisión, permitiendo realizar casi todas las operaciones matemáticas.\n",
    "- **Escala de intervalos** podemos medir distancias; el cero es arbitrario como punto de referencia. Esta escala es propicia para variables tanto discretas como continuas.\n",
    "\n",
    "~~~\n",
    "1. Temperatura Celsius y Fahrenheit\n",
    "~~~"
   ]
  },
  {
   "cell_type": "markdown",
   "metadata": {
    "slideshow": {
     "slide_type": "subslide"
    }
   },
   "source": [
    "## Conceptos importantes de Estadística Descriptiva\n",
    "\n",
    "### Escalas de medición de una variable\n",
    "\n",
    "**Escalas de medidas cuantitativas o métricas**: Las medidas métricas pueden tener escalas por intervalos y razón, éstas proporcionan el nivel más alto de medida de precisión, permitiendo realizar casi todas las operaciones matemáticas.\n",
    "- **Escala de razón** el cero toma un valor absoluto, por lo que las medidas pueden expresarse en múltiplos cuando se relaciona un punto con otro de la escala.\n",
    "\n",
    "~~~\n",
    "1. Masa de un objeto\n",
    "2. Nivel de inflación de una moneda\n",
    "3. Producto interno bruto\n",
    "4. Tipo de cambio\n",
    "~~~"
   ]
  },
  {
   "cell_type": "markdown",
   "metadata": {
    "slideshow": {
     "slide_type": "slide"
    }
   },
   "source": [
    "# Técnicas de muestreo\n",
    "\n",
    "__¿Qué buscamos con el muestreo?__ Obtener con el **mínimo costo**, la **máxima información** sobre las medidas\n",
    "de la población (**parámetros**). En otras palabras, encontrar con una muestra pequeña la mayor información\n",
    "posible de los parámetros.\n",
    "\n",
    "**Muestreo** Conjunto de métodos para obtener muestras. Los diferentes tipos de muestreo son:\n",
    "1. Muestreo aleatorio\n",
    "2. Muestreo estratificado\n",
    "3. Muestreo sistemático\n",
    "4. Muestreo de conglomerados"
   ]
  },
  {
   "cell_type": "markdown",
   "metadata": {
    "slideshow": {
     "slide_type": "subslide"
    }
   },
   "source": [
    "## Muestreo aleatorio\n",
    "\n",
    "Es aquel método que asigna la misma probabilidad de selección a todas y cada una de las muestras posibles y distintas. Este muestreo se recomienda cuando las características de interés presentan una gran homogeneidad.\n",
    "\n",
    "Consideremos una urna de 100 bolas numeradas del 1 al 100:\n",
    "\n",
    "<center> <img src=Images/img2.png width=75%></center> \n"
   ]
  },
  {
   "cell_type": "markdown",
   "metadata": {
    "slideshow": {
     "slide_type": "subslide"
    }
   },
   "source": [
    "## Muestreo aleatorio\n",
    "\n",
    "Queremos extraer una muestra de 15 bolas. Para ello, podríamos repetir 15 veces el proceso de sacar una bola de la urna, anotar su número y devolverla a la urna. El tipo de muestra obtenida de esta manera recibe el nombre de **muestra aleatoria con reposición**\n",
    "\n",
    "<center> <img src=Images/img3.png width=75%></center> "
   ]
  },
  {
   "cell_type": "markdown",
   "metadata": {
    "slideshow": {
     "slide_type": "subslide"
    }
   },
   "source": [
    "## Muestreo aleatorio\n",
    "\n",
    "Otra manera de extraer nuestra muestra sería repetir 15 veces el proceso de sacar una bola de la urna pero ahora sin devolverla. En este caso se habla de una **muestra aleatoria sin reposición**.\n",
    "\n",
    "<center> <img src=Images/img4.png width=75%></center> "
   ]
  },
  {
   "cell_type": "markdown",
   "metadata": {
    "slideshow": {
     "slide_type": "subslide"
    }
   },
   "source": [
    "## Muestreo estratificado\n",
    "\n",
    "Cuando se tiene una población que puede ser divida en varias subpoblaciones a las que llamamos estratos. Se debe cumplir las siguientes condiciones:\n",
    "\n",
    "- La población se divide en subpoblaciones denominadas estratos, en las cuales los integrantes de cada uno cumplen ciertas propiedades comunes.\n",
    "- Seleccionar una muestra en forma independiente de cada estrato. No hay reglas determinantes para elegir el tamaño de cada estrato, pero se sugiere que sea de forma proporcional a los tamaños de los estratos con respecto al tamaño poblacional.\n",
    "- Los estimadores para los parámetros de la población completa se proponen como una combinación de los correspondientes a los parámetros de los estratos."
   ]
  },
  {
   "cell_type": "markdown",
   "metadata": {
    "slideshow": {
     "slide_type": "subslide"
    }
   },
   "source": [
    "## Muestreo estratificado\n",
    "\n",
    "Este método de muestreo es flexible en cuanto a la selección de la muestra en cada estrato. Es válido señalar\n",
    "aquí que los estratos se construyen sin importar que sean geográficamente contiguos o no. Además, tanto el tamaño de la población completa, como el del estrato deben ser conocidos.\n",
    "\n",
    "Supongamos que nuestra urna de 100 bolas contiene 40 bolas de un color y 60 de otro color tal como muestra la figura:\n",
    "\n",
    "<center> <img src=Images/img5_1.png width=75%></center>"
   ]
  },
  {
   "cell_type": "markdown",
   "metadata": {
    "slideshow": {
     "slide_type": "subslide"
    }
   },
   "source": [
    "## Muestreo estratificado\n",
    "\n",
    "Para tomar una muestra aleatoria estratificada de 15 bolas, considerando como estratos los dos colores, tomaríamos una muestra aleatoria de 6 bolas del primer color y una muestra aleatoria de 9 bolas del segundo color.\n",
    "\n",
    "<center> <img src=Images/img5.png width=75%></center>\n"
   ]
  },
  {
   "cell_type": "markdown",
   "metadata": {
    "slideshow": {
     "slide_type": "subslide"
    }
   },
   "source": [
    "## Muestreo sistemático\n",
    "\n",
    "Es un método de muestreo probabilístico que simplifica la selección de una muestra. En este caso, la primera unidad se selecciona en forma aleatoria y los restantes elementos, para formar la muestra del tamaño requerido, se toman siguiendo un patrón establecido. Las ventajas del muestreo sistemático son:\n",
    "- Es más fácil de realizar en el campo y en la oficina.\n",
    "- Se eliminan errores de los enumeradores, en especial cuando se tiene un marco de muestreo defectuoso.\n",
    "- Extiende la muestra a toda la población, se distribuye mejor y de manera uniforme sobre la población.\n",
    "- No precisa la distinción entre muestreo sin reemplazo y con reemplazo.\n",
    "- Recoge el posible efecto de la estratificación debido al orden en que figuran las unidades en la población.\n",
    "- Si la disposición de las unidades en la población es aleatoria, la selección sistemática equivale a un muestreo aleatorio simple."
   ]
  },
  {
   "cell_type": "markdown",
   "metadata": {
    "slideshow": {
     "slide_type": "subslide"
    }
   },
   "source": [
    "## Muestreo sistemático\n",
    "\n",
    "Este tipo de muestreo es propicio para realizar estudios como:\n",
    "1. En una línea de producción que esté trabajando en forma continua, se puede hacer un muestreo de tamaño determinado cada 200 unidades.\n",
    "2. En la línea de producción anterior el muestreo puede llevarse a cabo cada determinado tiempo. Por ejemplo, cada hora se selecciona una muestra para su análisis.\n",
    "3. En el estudio de árboles de un bosque, en el que podemos establecer un patrón de revisión, elegir el primero y después seleccionar un árbol de cada 100 para su estudio.\n",
    "4. Cuando se requiere llevar a cabo encuestas a los usuarios del metro, el mejor muestreo es el sistemático."
   ]
  },
  {
   "cell_type": "markdown",
   "metadata": {
    "slideshow": {
     "slide_type": "subslide"
    }
   },
   "source": [
    "## Muestreo sistemático\n",
    "\n",
    "Una muestra aleatoria sistemática de 15 bolas de nuestra urna de 100 bolas: se empiza escogiendo la bola roja oscura, que ha sido elegida al azar, y a partir de ella se toma 1 de cada 7 bolas, volviendo al principio cuando se llega al final de la lista de bolas.\n",
    "\n",
    "<center> <img src=Images/img6.png width=75%></center>"
   ]
  },
  {
   "cell_type": "markdown",
   "metadata": {
    "slideshow": {
     "slide_type": "subslide"
    }
   },
   "source": [
    "## Muestreo por conglomerados\n",
    "\n",
    "Este tipo de muestreo, en cierta forma, es similar al estratificado, puesto que la población se divide en subpoblaciones (estratos), pero a diferencia del estratificado en éste no se requiere un representante de cada estrato en la muestra, ya que en primer lugar elegimos una muestra de estratos y, en segundo, seleccionamos una muestra de cada uno para conformar la muestra deseada.\n",
    "\n",
    "El muestreo por conglomerados se usa en poblaciones en extremo grandes, y a diferencia de las técnicas mencionadas antes, no requiere de un marco de muestreo que liste las unidades con anterioridad."
   ]
  },
  {
   "cell_type": "markdown",
   "metadata": {
    "slideshow": {
     "slide_type": "subslide"
    }
   },
   "source": [
    "## Muestreo por conglomerados\n",
    "\n",
    "Supongamos que las 100 bolas de nuestra urna se agrupan en 20 conglomerados de 5 bolas cada uno según las franjas verticales.\n",
    "\n",
    "<center> <img src=Images/img7.png width=75%></center>\n"
   ]
  },
  {
   "cell_type": "markdown",
   "metadata": {
    "slideshow": {
     "slide_type": "subslide"
    }
   },
   "source": [
    "## Muestreo por conglomerados\n",
    "\n",
    "Para obtener una muestra aleatoria por conglomerados de tamaño 15, escogeríamos al azar 3 conglomerados y la muestra estaría formada por sus bolas: los conglomerados escogidos están marcados en azul:\n",
    "\n",
    "<center> <img src=Images/img8.png width=75%></center>"
   ]
  },
  {
   "cell_type": "markdown",
   "metadata": {
    "slideshow": {
     "slide_type": "slide"
    }
   },
   "source": [
    "## Ejemplo 1. Datos de la copa del mundo 2010\n",
    "\n",
    "Esta tabla de datos nos da información sobre 595 jugadores que participaron en el Mundial de Futbol del año 2010 celebrado en Sudáfrica. La tabla nos da la información siguiente sobre cada jugador:\n",
    "\n",
    "- *Team*: país del jugador.\n",
    "- *Position*: posición en la juega el jugador: *Defender* (defensa), *Forward* (delantero), *GoalKeeper* (portero) y *Midfielder* (centrocampista)\n",
    "- *Time*: tiempo que ha jugado el jugador en minutos.\n",
    "- *Shots*: número de tiros a puerta.\n",
    "- *Passes*: número de pases.\n",
    "- *Tackles*: número de entradas.\n",
    "- *Saves*: número de paradas."
   ]
  },
  {
   "cell_type": "markdown",
   "metadata": {
    "slideshow": {
     "slide_type": "subslide"
    }
   },
   "source": [
    "A partir de los datos de la copa del mundo, realice lo siguiente:\n",
    "1. Cree una muestra aleatoria con reposición de 30 jugadores\n",
    "2. Cree una muestra aleatoria sin reposición de 30 jugadores\n",
    "3. Cree una muestra sistemática de 30 jugadores\n",
    "4. Cree una muestra estratificada de 30 jugadores de acuerdo a la posición de los jugadores\n",
    "5. Cree una muestra por conglomerados de acuerdo a los países a los que pertenecen"
   ]
  },
  {
   "cell_type": "markdown",
   "metadata": {
    "slideshow": {
     "slide_type": "subslide"
    }
   },
   "source": [
    "### Solución\n",
    "\n",
    "El **primer paso** para todos los incisos es importar los datos:"
   ]
  },
  {
   "cell_type": "code",
   "execution_count": 1,
   "metadata": {
    "slideshow": {
     "slide_type": "fragment"
    }
   },
   "outputs": [
    {
     "data": {
      "text/html": [
       "<div>\n",
       "<style scoped>\n",
       "    .dataframe tbody tr th:only-of-type {\n",
       "        vertical-align: middle;\n",
       "    }\n",
       "\n",
       "    .dataframe tbody tr th {\n",
       "        vertical-align: top;\n",
       "    }\n",
       "\n",
       "    .dataframe thead th {\n",
       "        text-align: right;\n",
       "    }\n",
       "</style>\n",
       "<table border=\"1\" class=\"dataframe\">\n",
       "  <thead>\n",
       "    <tr style=\"text-align: right;\">\n",
       "      <th></th>\n",
       "      <th>Unnamed: 0</th>\n",
       "      <th>Team</th>\n",
       "      <th>Position</th>\n",
       "      <th>Time</th>\n",
       "      <th>Shots</th>\n",
       "      <th>Passes</th>\n",
       "      <th>Tackles</th>\n",
       "      <th>Saves</th>\n",
       "    </tr>\n",
       "  </thead>\n",
       "  <tbody>\n",
       "    <tr>\n",
       "      <th>0</th>\n",
       "      <td>Abdoun</td>\n",
       "      <td>Algeria</td>\n",
       "      <td>Midfielder</td>\n",
       "      <td>16</td>\n",
       "      <td>0</td>\n",
       "      <td>6</td>\n",
       "      <td>0</td>\n",
       "      <td>0</td>\n",
       "    </tr>\n",
       "    <tr>\n",
       "      <th>1</th>\n",
       "      <td>Abe</td>\n",
       "      <td>Japan</td>\n",
       "      <td>Midfielder</td>\n",
       "      <td>351</td>\n",
       "      <td>0</td>\n",
       "      <td>101</td>\n",
       "      <td>14</td>\n",
       "      <td>0</td>\n",
       "    </tr>\n",
       "    <tr>\n",
       "      <th>2</th>\n",
       "      <td>Abidal</td>\n",
       "      <td>France</td>\n",
       "      <td>Defender</td>\n",
       "      <td>180</td>\n",
       "      <td>0</td>\n",
       "      <td>91</td>\n",
       "      <td>6</td>\n",
       "      <td>0</td>\n",
       "    </tr>\n",
       "    <tr>\n",
       "      <th>3</th>\n",
       "      <td>Abou Diaby</td>\n",
       "      <td>France</td>\n",
       "      <td>Midfielder</td>\n",
       "      <td>270</td>\n",
       "      <td>1</td>\n",
       "      <td>111</td>\n",
       "      <td>5</td>\n",
       "      <td>0</td>\n",
       "    </tr>\n",
       "    <tr>\n",
       "      <th>4</th>\n",
       "      <td>Aboubakar</td>\n",
       "      <td>Cameroon</td>\n",
       "      <td>Forward</td>\n",
       "      <td>46</td>\n",
       "      <td>2</td>\n",
       "      <td>16</td>\n",
       "      <td>0</td>\n",
       "      <td>0</td>\n",
       "    </tr>\n",
       "  </tbody>\n",
       "</table>\n",
       "</div>"
      ],
      "text/plain": [
       "   Unnamed: 0      Team    Position  Time  Shots  Passes  Tackles  Saves\n",
       "0      Abdoun   Algeria  Midfielder    16      0       6        0      0\n",
       "1         Abe     Japan  Midfielder   351      0     101       14      0\n",
       "2      Abidal    France    Defender   180      0      91        6      0\n",
       "3  Abou Diaby    France  Midfielder   270      1     111        5      0\n",
       "4   Aboubakar  Cameroon     Forward    46      2      16        0      0"
      ]
     },
     "execution_count": 1,
     "metadata": {},
     "output_type": "execute_result"
    }
   ],
   "source": [
    "import pandas as pd\n",
    "import numpy as np\n",
    "\n",
    "data = pd.read_csv('Data/1_worldcup.csv')\n",
    "data.head()"
   ]
  },
  {
   "cell_type": "markdown",
   "metadata": {
    "slideshow": {
     "slide_type": "fragment"
    }
   },
   "source": [
    "Los datos estan guardados en la variable *data*"
   ]
  },
  {
   "cell_type": "code",
   "execution_count": 3,
   "metadata": {
    "slideshow": {
     "slide_type": "subslide"
    }
   },
   "outputs": [],
   "source": [
    "#1. Cree una muestra aleatoria con reposición de 30 jugadores\n",
    "data.sample(n=30,replace = True)\n",
    "\n",
    "#2. Cree una muestra aleatoria sin reposición de 30 jugadores\n",
    "data.sample(n=30,replace = False)\n",
    "\n",
    "#3. Cree una muestra sistemática de 30 jugadores\n",
    "n_init = np.random.randint(data.index[0],data.index[-1])\n",
    "delta = 30\n",
    "positions = []\n",
    "for i in range(30):\n",
    "    pos = n_init + i*delta\n",
    "    if pos<data.index[-1]:\n",
    "        positions.append(pos)\n",
    "    else:\n",
    "        positions.append(pos-data.index[-1])\n",
    "\n",
    "#data.loc[positions]"
   ]
  },
  {
   "cell_type": "code",
   "execution_count": 4,
   "metadata": {
    "slideshow": {
     "slide_type": "subslide"
    }
   },
   "outputs": [],
   "source": [
    "#3. Cree una muestra sistemática de 30 jugadores\n",
    "n_init = np.random.randint(data.index[0],data.index[-1])\n",
    "delta = 30\n",
    "positions = [(n_init+i*delta)%data.index[-1] for i in range(30)]\n",
    "data.loc[positions]\n",
    "\n",
    "#4. Cree una muestra estratificada de 30 jugadores de acuerdo a la posición de los jugadores\n",
    "positions = data['Position'].loc[~data['Position'].duplicated(keep='first')].tolist()\n",
    "probs = [[i,len(data.loc[data['Position']==i]),round(len(data.loc[data['Position']==i])/len(data)*30)] \n",
    "         for i in positions]\n",
    "sample = pd.DataFrame()\n",
    "for i in probs:\n",
    "    sample = pd.concat([sample,data.loc[data['Position']==i[0]].sample(n=i[2])])"
   ]
  },
  {
   "cell_type": "code",
   "execution_count": 5,
   "metadata": {
    "slideshow": {
     "slide_type": "subslide"
    }
   },
   "outputs": [],
   "source": [
    "#5. Cree una muestra por conglomerados de acuerdo a los países a los que pertenecen\n",
    "countries = data['Team'].loc[~data['Team'].duplicated(keep='first')].sample(n=4,replace=False).tolist()\n",
    "sample = pd.DataFrame()\n",
    "\n",
    "for i in countries:\n",
    "    sample = pd.concat([sample,data.loc[data['Team']==i]])"
   ]
  },
  {
   "cell_type": "code",
   "execution_count": null,
   "metadata": {},
   "outputs": [],
   "source": []
  }
 ],
 "metadata": {
  "celltoolbar": "Slideshow",
  "kernelspec": {
   "display_name": "Python 3",
   "language": "python",
   "name": "python3"
  },
  "language_info": {
   "codemirror_mode": {
    "name": "ipython",
    "version": 3
   },
   "file_extension": ".py",
   "mimetype": "text/x-python",
   "name": "python",
   "nbconvert_exporter": "python",
   "pygments_lexer": "ipython3",
   "version": "3.8.1"
  },
  "rise": {
   "scroll": true
  }
 },
 "nbformat": 4,
 "nbformat_minor": 4
}
