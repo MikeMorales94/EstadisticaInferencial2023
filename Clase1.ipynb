{
 "cells": [
  {
   "cell_type": "markdown",
   "metadata": {
    "slideshow": {
     "slide_type": "slide"
    }
   },
   "source": [
    "<h1 align='center'> Estadística Inferencial Descriptiva </h1>\n",
    "<center> <img src=Images/img1.png width=50%> </center>\n",
    "<h2 align='center'> M. en I. Miguel Angel Alvarado Morales </h2>\n",
    "    "
   ]
  },
  {
   "cell_type": "markdown",
   "metadata": {
    "slideshow": {
     "slide_type": "subslide"
    }
   },
   "source": [
    "<h1 align='center'> Objetivo general de la asignatura </h1>\n",
    "\n",
    "Aplicar los **métodos** de la **estadística inferencial** para la determinación de las **características** de una **población**, a través de la utilización de diversas **pruebas** que contrasten los valores de los **parámetros** y permitan la **toma de decisiones**"
   ]
  },
  {
   "cell_type": "markdown",
   "metadata": {
    "slideshow": {
     "slide_type": "subslide"
    }
   },
   "source": [
    "<h1 align='center'> Temas </h1>\n",
    "\n",
    "1. Teoría del muestreo\n",
    "2. Distribuciones muestrales\n",
    "3. Inferencia estadística con muestras grandes\n",
    "4. Inferencia estadística con muestras pequeñas\n",
    "5. Prueba de Hipótesis\n",
    "6. Análisis de varianza\n",
    "7. Pruebas de chi cuadrada\n",
    "8. Regresión lineal y correlación\n",
    "9. Regresión múltiple\n",
    "10. Series de tiempo\n",
    "11. Estadística no paramétrica"
   ]
  },
  {
   "cell_type": "markdown",
   "metadata": {
    "slideshow": {
     "slide_type": "subslide"
    }
   },
   "source": [
    "<h1 align='center'> Criterios de evaluación y acreditación </h1>\n",
    "\n",
    "**Evaluación parcial** 40%\n",
    "- Examen\n",
    "- Solución de casos\n",
    "\n",
    "**Evaluación final** 50%\n",
    "- Examen\n",
    "- Solución de casos\n",
    "\n",
    "**Actividades de aprendizaje** 10%"
   ]
  },
  {
   "cell_type": "markdown",
   "metadata": {
    "slideshow": {
     "slide_type": "subslide"
    }
   },
   "source": [
    "## Estadística\n",
    "\n",
    "La estadística es la **rama de las matemáticas** que proporciona métodos para reunir, organizar y analizar información y usarla para obtener diversas conclusiones que pueden ayudar a resolver problemas en la toma de decisiones y el diseño de experimentos.\n",
    "\n",
    "En todo estudio estadístico distinguiremos entre **población** (conjunto de sujetos con una o varias características que podemos **medir** y estudiar), y **muestra** (subconjunto de una población).\n",
    "\n",
    "Existen dos tipos de análisis estadístico:\n",
    "- Exploratorio o **descriptivo**: Estadística descriptiva\n",
    "- **Inferencial** o confirmatorio: Estadística inferencial"
   ]
  },
  {
   "cell_type": "markdown",
   "metadata": {
    "slideshow": {
     "slide_type": "subslide"
    }
   },
   "source": [
    "## Conceptos importantes de Estadística Descriptiva\n",
    "\n",
    "**Población**: conjunto de **todos** los elementos de un tipo particular cuyo conocimiento es de nuestro interés.\n",
    "\n",
    "**Muestra**: cualquier subconjunto de la población.\n",
    "\n",
    "~~~\n",
    "1. Si el conjunto de datos de interés está constituido por todos los estudiantes de licenciatura en el Tecnológico de Tlalnepantla, cada uno de los estudiantes será un individuo estadístico, mientras que el conjunto de todos los estudiantes será la población. Una muestra podría ser el conjunto de todos los estudiantes del cuarto semestre de la licenciatura en administración.\n",
    "2. La producción de autos de una armadora ubicada en Morelos. En este ejemplo, la población es cada uno de los autos ensamblados (individuos estadísticos); por su parte, una muestra se puede proponer como los autos compactos fabricados en mayo.\n",
    "~~~"
   ]
  },
  {
   "cell_type": "markdown",
   "metadata": {
    "slideshow": {
     "slide_type": "subslide"
    }
   },
   "source": [
    "## Conceptos importantes de Estadística Descriptiva\n",
    "\n",
    "**Carácter**: cualquier característica o propiedad por medio de la cual es posible clasificar y estudiar a los individuos. Un carácter puede ser:\n",
    "- **Cualitativo** o no métrico, si no admite medición numérica\n",
    "- **Cuantitativo** o métrico, si es contable o medible numéricamente.\n",
    "\n",
    "~~~\n",
    "1. Si los individuos son personas, entonces el género, estado civil, número de hermanos o su estatura son caracteres.\n",
    "2. Si los individuos son computadoras, entonces un carácter podría ser la rapidez del procesador, la capacidad del disco duro, etc.\n",
    "3. Si el individuo es una reacción química, entonces el tiempo de la reacción, la cantidad de producto obtenido o si este es ácido o básico.\n",
    "~~~"
   ]
  },
  {
   "cell_type": "code",
   "execution_count": null,
   "metadata": {},
   "outputs": [],
   "source": []
  }
 ],
 "metadata": {
  "celltoolbar": "Slideshow",
  "kernelspec": {
   "display_name": "Python 3",
   "language": "python",
   "name": "python3"
  },
  "language_info": {
   "codemirror_mode": {
    "name": "ipython",
    "version": 3
   },
   "file_extension": ".py",
   "mimetype": "text/x-python",
   "name": "python",
   "nbconvert_exporter": "python",
   "pygments_lexer": "ipython3",
   "version": "3.8.1"
  },
  "rise": {
   "scroll": true
  }
 },
 "nbformat": 4,
 "nbformat_minor": 4
}
